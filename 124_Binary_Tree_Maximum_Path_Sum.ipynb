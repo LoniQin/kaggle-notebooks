{
  "cells": [
    {
      "cell_type": "markdown",
      "metadata": {
        "id": "view-in-github",
        "colab_type": "text"
      },
      "source": [
        "<a href=\"https://colab.research.google.com/github/LoniQin/kaggle-notebooks/blob/main/124_Binary_Tree_Maximum_Path_Sum.ipynb\" target=\"_parent\"><img src=\"https://colab.research.google.com/assets/colab-badge.svg\" alt=\"Open In Colab\"/></a>"
      ]
    },
    {
      "cell_type": "markdown",
      "metadata": {
        "id": "LvfNroZCkoh5"
      },
      "source": [
        "# 124. Binary Tree Maximum Path Sum\n",
        "\n",
        "A path in a binary tree is a sequence of nodes where each pair of adjacent nodes in the sequence has an edge connecting them. A node can only appear in the sequence at most once. Note that the path does not need to pass through the root.\n",
        "\n",
        "The path sum of a path is the sum of the node's values in the path.\n",
        "\n",
        "Given the root of a binary tree, return the maximum path sum of any non-empty path.\n",
        "\n",
        " \n",
        "```\n",
        "Example 1:\n",
        "\n",
        "\n",
        "Input: root = [1,2,3]\n",
        "Output: 6\n",
        "Explanation: The optimal path is 2 -> 1 -> 3 with a path sum of 2 + 1 + 3 = 6.\n",
        "Example 2:\n",
        "\n",
        "\n",
        "Input: root = [-10,9,20,null,null,15,7]\n",
        "Output: 42\n",
        "Explanation: The optimal path is 15 -> 20 -> 7 with a path sum of 15 + 20 + 7 = 42.\n",
        "```\n",
        "\n"
      ]
    },
    {
      "cell_type": "markdown",
      "source": [
        "## Python Solution"
      ],
      "metadata": {
        "id": "H4FLRP0vds5Z"
      }
    },
    {
      "cell_type": "code",
      "execution_count": 41,
      "metadata": {
        "id": "DUSDErCAkoh8"
      },
      "outputs": [],
      "source": [
        "class TreeNode:\n",
        "    def __init__(self, val, left = None, right = None):\n",
        "      self.val = val\n",
        "      self.left = left\n",
        "      self.right = right\n",
        "  \n",
        "\n",
        "class Solution:\n",
        "\n",
        "    def maxPathSum(self, root):\n",
        "      self.max_val = -(2 ** 31)\n",
        "      self.dfs(root)\n",
        "      return self.max_val\n",
        "\n",
        "    def dfs(self, root):\n",
        "      if (root == None): return 0\n",
        "      l = max(self.dfs(root.left), 0)\n",
        "      r = max(self.dfs(root.right), 0)\n",
        "      self.max_val = max(l + r + root.val, self.max_val)\n",
        "      return root.val + max(l, r)"
      ]
    },
    {
      "cell_type": "markdown",
      "source": [
        "## Samples"
      ],
      "metadata": {
        "id": "V2rP5p0Zoa-A"
      }
    },
    {
      "cell_type": "code",
      "execution_count": 42,
      "metadata": {
        "id": "PFa8ZoSWkoh-"
      },
      "outputs": [],
      "source": [
        "solution = Solution()"
      ]
    },
    {
      "cell_type": "code",
      "source": [
        "tree = TreeNode(3, left=TreeNode(4), right=TreeNode(5))\n",
        "solution.maxPathSum(tree)"
      ],
      "metadata": {
        "colab": {
          "base_uri": "https://localhost:8080/"
        },
        "id": "1evnt8Qioc5a",
        "outputId": "cfc7b68b-3941-4cc8-e8b4-e3b7603d7680"
      },
      "execution_count": 43,
      "outputs": [
        {
          "output_type": "execute_result",
          "data": {
            "text/plain": [
              "12"
            ]
          },
          "metadata": {},
          "execution_count": 43
        }
      ]
    }
  ],
  "metadata": {
    "kernelspec": {
      "display_name": "Python 3",
      "language": "python",
      "name": "python3"
    },
    "language_info": {
      "codemirror_mode": {
        "name": "ipython",
        "version": 3
      },
      "file_extension": ".py",
      "mimetype": "text/x-python",
      "name": "python",
      "nbconvert_exporter": "python",
      "pygments_lexer": "ipython3",
      "version": "3.6.5"
    },
    "colab": {
      "name": "124. Binary Tree Maximum Path Sum",
      "provenance": [],
      "include_colab_link": true
    }
  },
  "nbformat": 4,
  "nbformat_minor": 0
}